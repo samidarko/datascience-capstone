{
 "cells": [
  {
   "cell_type": "markdown",
   "metadata": {},
   "source": [
    "# Milestone Report\n",
    "\n",
    "Disclosure: I have very little affinity with R and I will probably not use it in the future. Teachers are asking us to take on something we didn't learn before (NLP) so why not using a language we didn't learn before? I will use [Python](https://www.python.org/), the [Spacy](https://spacy.io/) library and other technologies for this capstone.\n",
    "\n",
    "You will find this notebook with other sources on github: https://github.com/samidarko/datascience-capstone\n",
    "\n",
    "To store the datasets on Github I used Git Large File Storage https://git-lfs.github.com/\n"
   ]
  },
  {
   "cell_type": "markdown",
   "metadata": {},
   "source": [
    "## Imported libraries"
   ]
  },
  {
   "cell_type": "code",
   "execution_count": 13,
   "metadata": {},
   "outputs": [],
   "source": [
    "import os\n",
    "import pandas as pd\n",
    "import numpy as np\n",
    "import spacy\n",
    "from collections import Counter\n",
    "from nltk import bigrams, trigrams\n",
    "spacy.prefer_gpu()\n",
    "nlp = spacy.load('en') # loading the english model"
   ]
  },
  {
   "cell_type": "markdown",
   "metadata": {},
   "source": [
    "## Pre-processing\n",
    "We are going to focus on the english datasets. As the structure of those files are all the same (just lines of text) let's concatenate them in a single file named `corpus.txt` using the following command lines:\n",
    "\n",
    "```shell\n",
    "> cat en_US.*.txt > corpus.txt\n",
    "> wc -l corpus.txt \n",
    " 4269678 corpus.txt\n",
    "```\n",
    "\n",
    "The file can be found in the project at `datasets/corpus.txt`\n",
    "\n",
    "We probably only need words so let's keep only alpha tokens in lowercase. \n",
    "\n",
    "We will use [spacy](https://spacy.io/) for the purpose. Like, it takes resources I will store the result in a new file named `preprocessed_corpus.csv`"
   ]
  },
  {
   "cell_type": "code",
   "execution_count": 8,
   "metadata": {},
   "outputs": [],
   "source": [
    "if not os.path.isfile('datasets/preprocessed_corpus.txt'):\n",
    "    with open('datasets/corpus.txt') as corpus:\n",
    "        with open('datasets/preprocessed_corpus.txt', 'w') as preprocessed_corpus:\n",
    "            for line in corpus.readlines():\n",
    "                preprocessed_corpus.write('{}\\n'.format(','.join([token.lower_ for token in nlp(line.strip()) if token.is_alpha])))"
   ]
  },
  {
   "cell_type": "markdown",
   "metadata": {},
   "source": [
    "### Monogram frequencies\n",
    "As our `preprocessed_corpus.csv` contains more than 4 millions lines, we do not want to extract the monogram frequencies every time we run this cell, so we are going to store this result in a new dataset named `monogram_frequencies.txt`"
   ]
  },
  {
   "cell_type": "code",
   "execution_count": 12,
   "metadata": {},
   "outputs": [],
   "source": [
    "if not os.path.isfile('datasets/monogram_frequencies.txt'):\n",
    "    words_count = Counter()\n",
    "    for line in open('datasets/preprocessed_corpus.txt').readlines():\n",
    "        words_count += Counter(line.strip().split(','))\n",
    "        \n",
    "    with open('datasets/monogram_frequencies.txt', 'w') as f:\n",
    "        for word, count in words_count.most_common():\n",
    "            f.write('{},{}\\n'.format(word, count))"
   ]
  },
  {
   "cell_type": "markdown",
   "metadata": {},
   "source": [
    "### Bigram frequencies"
   ]
  },
  {
   "cell_type": "code",
   "execution_count": 6,
   "metadata": {},
   "outputs": [],
   "source": [
    "if not os.path.isfile('datasets/bigram_frequencies.txt'):\n",
    "    words_count = Counter()\n",
    "    for line in open('datasets/preprocessed_corpus.txt').readlines():\n",
    "        words = line.strip().split(',')\n",
    "        words_count += Counter([' '.join(ngram) for ngram in bigram(words)])\n",
    "        \n",
    "    with open('datasets/bigram_frequencies.txt', 'w') as f:\n",
    "        for word, count in words_count.most_common():\n",
    "            f.write('{},{}\\n'.format(word, count))"
   ]
  },
  {
   "cell_type": "markdown",
   "metadata": {},
   "source": [
    "### Trigram frequencies"
   ]
  },
  {
   "cell_type": "code",
   "execution_count": 5,
   "metadata": {},
   "outputs": [],
   "source": [
    "if not os.path.isfile('datasets/trigram_frequencies.txt'):\n",
    "    words_count = Counter()\n",
    "    for line in open('datasets/preprocessed_corpus.txt').readlines():\n",
    "        words = line.strip().split(',')\n",
    "        words_count += Counter([' '.join(ngram) for ngram in trigram(words)])\n",
    "        \n",
    "    with open('datasets/trigram_frequencies.txt', 'w') as f:\n",
    "        for word, count in words_count.most_common():\n",
    "            f.write('{},{}\\n'.format(word, count))"
   ]
  },
  {
   "cell_type": "markdown",
   "metadata": {},
   "source": [
    "### A more scalable approach\n",
    "The code above is just a naive approach and would take a lot of time. What I actually did is split the data into 6 smaller datasets:\n",
    "\n",
    "```shell\n",
    "> split -l 711613 preprocessed_corpus.txt\n",
    "```\n",
    "\n",
    "We now have 6 files: `xaa`, `xab`, `xac`, `xad`, `xae` and `xaf` of 711613 lines of text\n",
    "\n",
    "I opened 6 terminals and in each I ran the python script `monogram_counter.py` provided in the repository with each of the `xa?`\n",
    "\n",
    "```shell\n",
    "> python monogram_counter.py datasets/xaa\n",
    "```\n",
    "\n",
    "After each processed ended I ran the aggregator script:\n",
    "```shell\n",
    "> python counter_aggregator.py datasets/monogram_frequencies.txt datasets/xa*.csv\n",
    "```\n",
    "\n",
    "I did the same to generate `bigram_frequencies.txt` and `trigram_frequencies.txt` using another script `python ngram_counter.py 2 datasets/xaa` and `python ngram_counter.py 2 datasets/xaa` respectfully. Also provided in repository."
   ]
  },
  {
   "cell_type": "markdown",
   "metadata": {},
   "source": [
    "## Exploratory analysis"
   ]
  },
  {
   "cell_type": "markdown",
   "metadata": {},
   "source": [
    "### The aggregated corpus"
   ]
  },
  {
   "cell_type": "code",
   "execution_count": 32,
   "metadata": {},
   "outputs": [
    {
     "name": "stdout",
     "output_type": "stream",
     "text": [
      "The corpus contains 222773 unique words\n",
      "The corpus contains a total of 29225076 words\n"
     ]
    }
   ],
   "source": [
    "monogram_frequencies_df = pd.read_csv('datasets/monogram_frequencies.txt', names=['ngram', 'frequency'])\n",
    "print('The corpus contains {} unique words'.format(monogram_frequencies_df.ngram.count()))\n",
    "print('The corpus contains a total of {} words'.format(monogram_frequencies_df.frequency.sum()))"
   ]
  },
  {
   "cell_type": "markdown",
   "metadata": {},
   "source": [
    "The corpus contains 4269678 lines:\n",
    "```shell\n",
    "> wc -l datasets/corpus.txt \n",
    "4269678 datasets/corpus.txt\n",
    "```"
   ]
  },
  {
   "cell_type": "markdown",
   "metadata": {},
   "source": [
    "### What are the frequencies of 1-gram, 2-grams and 3-grams in the dataset? "
   ]
  },
  {
   "cell_type": "code",
   "execution_count": 18,
   "metadata": {},
   "outputs": [
    {
     "data": {
      "text/html": [
       "<div>\n",
       "<style scoped>\n",
       "    .dataframe tbody tr th:only-of-type {\n",
       "        vertical-align: middle;\n",
       "    }\n",
       "\n",
       "    .dataframe tbody tr th {\n",
       "        vertical-align: top;\n",
       "    }\n",
       "\n",
       "    .dataframe thead th {\n",
       "        text-align: right;\n",
       "    }\n",
       "</style>\n",
       "<table border=\"1\" class=\"dataframe\">\n",
       "  <thead>\n",
       "    <tr style=\"text-align: right;\">\n",
       "      <th></th>\n",
       "      <th>ngram</th>\n",
       "      <th>frequency</th>\n",
       "    </tr>\n",
       "  </thead>\n",
       "  <tbody>\n",
       "    <tr>\n",
       "      <td>0</td>\n",
       "      <td>the</td>\n",
       "      <td>1471219</td>\n",
       "    </tr>\n",
       "    <tr>\n",
       "      <td>1</td>\n",
       "      <td>and</td>\n",
       "      <td>863749</td>\n",
       "    </tr>\n",
       "    <tr>\n",
       "      <td>2</td>\n",
       "      <td>to</td>\n",
       "      <td>845783</td>\n",
       "    </tr>\n",
       "    <tr>\n",
       "      <td>3</td>\n",
       "      <td>i</td>\n",
       "      <td>713032</td>\n",
       "    </tr>\n",
       "    <tr>\n",
       "      <td>4</td>\n",
       "      <td>a</td>\n",
       "      <td>710149</td>\n",
       "    </tr>\n",
       "    <tr>\n",
       "      <td>5</td>\n",
       "      <td>of</td>\n",
       "      <td>692803</td>\n",
       "    </tr>\n",
       "    <tr>\n",
       "      <td>6</td>\n",
       "      <td>in</td>\n",
       "      <td>473068</td>\n",
       "    </tr>\n",
       "    <tr>\n",
       "      <td>7</td>\n",
       "      <td>it</td>\n",
       "      <td>383436</td>\n",
       "    </tr>\n",
       "    <tr>\n",
       "      <td>8</td>\n",
       "      <td>that</td>\n",
       "      <td>383327</td>\n",
       "    </tr>\n",
       "    <tr>\n",
       "      <td>9</td>\n",
       "      <td>is</td>\n",
       "      <td>350925</td>\n",
       "    </tr>\n",
       "  </tbody>\n",
       "</table>\n",
       "</div>"
      ],
      "text/plain": [
       "  ngram  frequency\n",
       "0   the    1471219\n",
       "1   and     863749\n",
       "2    to     845783\n",
       "3     i     713032\n",
       "4     a     710149\n",
       "5    of     692803\n",
       "6    in     473068\n",
       "7    it     383436\n",
       "8  that     383327\n",
       "9    is     350925"
      ]
     },
     "execution_count": 18,
     "metadata": {},
     "output_type": "execute_result"
    }
   ],
   "source": [
    "monogram_frequencies_df.head(10)"
   ]
  },
  {
   "cell_type": "code",
   "execution_count": 19,
   "metadata": {},
   "outputs": [
    {
     "data": {
      "text/html": [
       "<div>\n",
       "<style scoped>\n",
       "    .dataframe tbody tr th:only-of-type {\n",
       "        vertical-align: middle;\n",
       "    }\n",
       "\n",
       "    .dataframe tbody tr th {\n",
       "        vertical-align: top;\n",
       "    }\n",
       "\n",
       "    .dataframe thead th {\n",
       "        text-align: right;\n",
       "    }\n",
       "</style>\n",
       "<table border=\"1\" class=\"dataframe\">\n",
       "  <thead>\n",
       "    <tr style=\"text-align: right;\">\n",
       "      <th></th>\n",
       "      <th>ngram</th>\n",
       "      <th>frequency</th>\n",
       "    </tr>\n",
       "  </thead>\n",
       "  <tbody>\n",
       "    <tr>\n",
       "      <td>0</td>\n",
       "      <td>of the</td>\n",
       "      <td>431854</td>\n",
       "    </tr>\n",
       "    <tr>\n",
       "      <td>1</td>\n",
       "      <td>in the</td>\n",
       "      <td>412436</td>\n",
       "    </tr>\n",
       "    <tr>\n",
       "      <td>2</td>\n",
       "      <td>to the</td>\n",
       "      <td>214324</td>\n",
       "    </tr>\n",
       "    <tr>\n",
       "      <td>3</td>\n",
       "      <td>for the</td>\n",
       "      <td>201268</td>\n",
       "    </tr>\n",
       "    <tr>\n",
       "      <td>4</td>\n",
       "      <td>on the</td>\n",
       "      <td>197424</td>\n",
       "    </tr>\n",
       "    <tr>\n",
       "      <td>5</td>\n",
       "      <td>to be</td>\n",
       "      <td>162677</td>\n",
       "    </tr>\n",
       "    <tr>\n",
       "      <td>6</td>\n",
       "      <td>at the</td>\n",
       "      <td>143426</td>\n",
       "    </tr>\n",
       "    <tr>\n",
       "      <td>7</td>\n",
       "      <td>and the</td>\n",
       "      <td>126317</td>\n",
       "    </tr>\n",
       "    <tr>\n",
       "      <td>8</td>\n",
       "      <td>in a</td>\n",
       "      <td>120234</td>\n",
       "    </tr>\n",
       "    <tr>\n",
       "      <td>9</td>\n",
       "      <td>with the</td>\n",
       "      <td>106049</td>\n",
       "    </tr>\n",
       "  </tbody>\n",
       "</table>\n",
       "</div>"
      ],
      "text/plain": [
       "      ngram  frequency\n",
       "0    of the     431854\n",
       "1    in the     412436\n",
       "2    to the     214324\n",
       "3   for the     201268\n",
       "4    on the     197424\n",
       "5     to be     162677\n",
       "6    at the     143426\n",
       "7   and the     126317\n",
       "8      in a     120234\n",
       "9  with the     106049"
      ]
     },
     "execution_count": 19,
     "metadata": {},
     "output_type": "execute_result"
    }
   ],
   "source": [
    "bigram_frequencies_df = pd.read_csv('datasets/bigram_frequencies.txt', names=['ngram', 'frequency'])\n",
    "bigram_frequencies_df.head(10)"
   ]
  },
  {
   "cell_type": "code",
   "execution_count": 20,
   "metadata": {},
   "outputs": [
    {
     "data": {
      "text/html": [
       "<div>\n",
       "<style scoped>\n",
       "    .dataframe tbody tr th:only-of-type {\n",
       "        vertical-align: middle;\n",
       "    }\n",
       "\n",
       "    .dataframe tbody tr th {\n",
       "        vertical-align: top;\n",
       "    }\n",
       "\n",
       "    .dataframe thead th {\n",
       "        text-align: right;\n",
       "    }\n",
       "</style>\n",
       "<table border=\"1\" class=\"dataframe\">\n",
       "  <thead>\n",
       "    <tr style=\"text-align: right;\">\n",
       "      <th></th>\n",
       "      <th>ngram</th>\n",
       "      <th>frequency</th>\n",
       "    </tr>\n",
       "  </thead>\n",
       "  <tbody>\n",
       "    <tr>\n",
       "      <td>0</td>\n",
       "      <td>one of the</td>\n",
       "      <td>34625</td>\n",
       "    </tr>\n",
       "    <tr>\n",
       "      <td>1</td>\n",
       "      <td>a lot of</td>\n",
       "      <td>30044</td>\n",
       "    </tr>\n",
       "    <tr>\n",
       "      <td>2</td>\n",
       "      <td>thanks for the</td>\n",
       "      <td>23835</td>\n",
       "    </tr>\n",
       "    <tr>\n",
       "      <td>3</td>\n",
       "      <td>to be a</td>\n",
       "      <td>18220</td>\n",
       "    </tr>\n",
       "    <tr>\n",
       "      <td>4</td>\n",
       "      <td>going to be</td>\n",
       "      <td>17449</td>\n",
       "    </tr>\n",
       "    <tr>\n",
       "      <td>5</td>\n",
       "      <td>i want to</td>\n",
       "      <td>15208</td>\n",
       "    </tr>\n",
       "    <tr>\n",
       "      <td>6</td>\n",
       "      <td>the end of</td>\n",
       "      <td>14986</td>\n",
       "    </tr>\n",
       "    <tr>\n",
       "      <td>7</td>\n",
       "      <td>out of the</td>\n",
       "      <td>14947</td>\n",
       "    </tr>\n",
       "    <tr>\n",
       "      <td>8</td>\n",
       "      <td>it was a</td>\n",
       "      <td>14874</td>\n",
       "    </tr>\n",
       "    <tr>\n",
       "      <td>9</td>\n",
       "      <td>as well as</td>\n",
       "      <td>13943</td>\n",
       "    </tr>\n",
       "  </tbody>\n",
       "</table>\n",
       "</div>"
      ],
      "text/plain": [
       "            ngram  frequency\n",
       "0      one of the      34625\n",
       "1        a lot of      30044\n",
       "2  thanks for the      23835\n",
       "3         to be a      18220\n",
       "4     going to be      17449\n",
       "5       i want to      15208\n",
       "6      the end of      14986\n",
       "7      out of the      14947\n",
       "8        it was a      14874\n",
       "9      as well as      13943"
      ]
     },
     "execution_count": 20,
     "metadata": {},
     "output_type": "execute_result"
    }
   ],
   "source": [
    "trigram_frequencies_df = pd.read_csv('datasets/trigram_frequencies.txt', names=['ngram', 'frequency'])\n",
    "trigram_frequencies_df.head(10)"
   ]
  },
  {
   "cell_type": "markdown",
   "metadata": {},
   "source": [
    "### How many unique words do you need in a frequency sorted dictionary to cover all word instances in percent"
   ]
  },
  {
   "cell_type": "code",
   "execution_count": 25,
   "metadata": {},
   "outputs": [],
   "source": [
    "def get_cumulated_ngram_count_in_percent(df):\n",
    "    total_ngrams = df.frequency.sum()\n",
    "    df['coverage'] = df.frequency / total_ngrams\n",
    "    df['coverage_cumsum'] = df.coverage.cumsum()\n",
    "    percents = np.arange(0.1, 1.1, 0.1)\n",
    "    cumulated_ngram_count = []\n",
    "    for percent in percents:\n",
    "        cumulated_ngram_count.append(df[df.coverage_cumsum <= percent]['ngram'].count())\n",
    "    return pd.DataFrame({'percent': percents, 'count': cumulated_ngram_count})"
   ]
  },
  {
   "cell_type": "code",
   "execution_count": 26,
   "metadata": {},
   "outputs": [
    {
     "data": {
      "text/html": [
       "<div>\n",
       "<style scoped>\n",
       "    .dataframe tbody tr th:only-of-type {\n",
       "        vertical-align: middle;\n",
       "    }\n",
       "\n",
       "    .dataframe tbody tr th {\n",
       "        vertical-align: top;\n",
       "    }\n",
       "\n",
       "    .dataframe thead th {\n",
       "        text-align: right;\n",
       "    }\n",
       "</style>\n",
       "<table border=\"1\" class=\"dataframe\">\n",
       "  <thead>\n",
       "    <tr style=\"text-align: right;\">\n",
       "      <th></th>\n",
       "      <th>percent</th>\n",
       "      <th>count</th>\n",
       "    </tr>\n",
       "  </thead>\n",
       "  <tbody>\n",
       "    <tr>\n",
       "      <td>0</td>\n",
       "      <td>0.1</td>\n",
       "      <td>2</td>\n",
       "    </tr>\n",
       "    <tr>\n",
       "      <td>1</td>\n",
       "      <td>0.2</td>\n",
       "      <td>7</td>\n",
       "    </tr>\n",
       "    <tr>\n",
       "      <td>2</td>\n",
       "      <td>0.3</td>\n",
       "      <td>18</td>\n",
       "    </tr>\n",
       "    <tr>\n",
       "      <td>3</td>\n",
       "      <td>0.4</td>\n",
       "      <td>43</td>\n",
       "    </tr>\n",
       "    <tr>\n",
       "      <td>4</td>\n",
       "      <td>0.5</td>\n",
       "      <td>95</td>\n",
       "    </tr>\n",
       "    <tr>\n",
       "      <td>5</td>\n",
       "      <td>0.6</td>\n",
       "      <td>238</td>\n",
       "    </tr>\n",
       "    <tr>\n",
       "      <td>6</td>\n",
       "      <td>0.7</td>\n",
       "      <td>669</td>\n",
       "    </tr>\n",
       "    <tr>\n",
       "      <td>7</td>\n",
       "      <td>0.8</td>\n",
       "      <td>1856</td>\n",
       "    </tr>\n",
       "    <tr>\n",
       "      <td>8</td>\n",
       "      <td>0.9</td>\n",
       "      <td>6042</td>\n",
       "    </tr>\n",
       "    <tr>\n",
       "      <td>9</td>\n",
       "      <td>1.0</td>\n",
       "      <td>222772</td>\n",
       "    </tr>\n",
       "  </tbody>\n",
       "</table>\n",
       "</div>"
      ],
      "text/plain": [
       "   percent   count\n",
       "0      0.1       2\n",
       "1      0.2       7\n",
       "2      0.3      18\n",
       "3      0.4      43\n",
       "4      0.5      95\n",
       "5      0.6     238\n",
       "6      0.7     669\n",
       "7      0.8    1856\n",
       "8      0.9    6042\n",
       "9      1.0  222772"
      ]
     },
     "execution_count": 26,
     "metadata": {},
     "output_type": "execute_result"
    }
   ],
   "source": [
    "get_cumulated_ngram_count_in_percent(monogram_frequencies_df)"
   ]
  },
  {
   "cell_type": "code",
   "execution_count": 27,
   "metadata": {},
   "outputs": [
    {
     "data": {
      "text/html": [
       "<div>\n",
       "<style scoped>\n",
       "    .dataframe tbody tr th:only-of-type {\n",
       "        vertical-align: middle;\n",
       "    }\n",
       "\n",
       "    .dataframe tbody tr th {\n",
       "        vertical-align: top;\n",
       "    }\n",
       "\n",
       "    .dataframe thead th {\n",
       "        text-align: right;\n",
       "    }\n",
       "</style>\n",
       "<table border=\"1\" class=\"dataframe\">\n",
       "  <thead>\n",
       "    <tr style=\"text-align: right;\">\n",
       "      <th></th>\n",
       "      <th>percent</th>\n",
       "      <th>count</th>\n",
       "    </tr>\n",
       "  </thead>\n",
       "  <tbody>\n",
       "    <tr>\n",
       "      <td>0</td>\n",
       "      <td>0.1</td>\n",
       "      <td>198</td>\n",
       "    </tr>\n",
       "    <tr>\n",
       "      <td>1</td>\n",
       "      <td>0.2</td>\n",
       "      <td>1174</td>\n",
       "    </tr>\n",
       "    <tr>\n",
       "      <td>2</td>\n",
       "      <td>0.3</td>\n",
       "      <td>4274</td>\n",
       "    </tr>\n",
       "    <tr>\n",
       "      <td>3</td>\n",
       "      <td>0.4</td>\n",
       "      <td>12678</td>\n",
       "    </tr>\n",
       "    <tr>\n",
       "      <td>4</td>\n",
       "      <td>0.5</td>\n",
       "      <td>34627</td>\n",
       "    </tr>\n",
       "    <tr>\n",
       "      <td>5</td>\n",
       "      <td>0.6</td>\n",
       "      <td>93598</td>\n",
       "    </tr>\n",
       "    <tr>\n",
       "      <td>6</td>\n",
       "      <td>0.7</td>\n",
       "      <td>268398</td>\n",
       "    </tr>\n",
       "    <tr>\n",
       "      <td>7</td>\n",
       "      <td>0.8</td>\n",
       "      <td>899499</td>\n",
       "    </tr>\n",
       "    <tr>\n",
       "      <td>8</td>\n",
       "      <td>0.9</td>\n",
       "      <td>3808168</td>\n",
       "    </tr>\n",
       "    <tr>\n",
       "      <td>9</td>\n",
       "      <td>1.0</td>\n",
       "      <td>13066677</td>\n",
       "    </tr>\n",
       "  </tbody>\n",
       "</table>\n",
       "</div>"
      ],
      "text/plain": [
       "   percent     count\n",
       "0      0.1       198\n",
       "1      0.2      1174\n",
       "2      0.3      4274\n",
       "3      0.4     12678\n",
       "4      0.5     34627\n",
       "5      0.6     93598\n",
       "6      0.7    268398\n",
       "7      0.8    899499\n",
       "8      0.9   3808168\n",
       "9      1.0  13066677"
      ]
     },
     "execution_count": 27,
     "metadata": {},
     "output_type": "execute_result"
    }
   ],
   "source": [
    "get_cumulated_ngram_count_in_percent(bigram_frequencies_df)"
   ]
  },
  {
   "cell_type": "code",
   "execution_count": 28,
   "metadata": {},
   "outputs": [
    {
     "data": {
      "text/html": [
       "<div>\n",
       "<style scoped>\n",
       "    .dataframe tbody tr th:only-of-type {\n",
       "        vertical-align: middle;\n",
       "    }\n",
       "\n",
       "    .dataframe tbody tr th {\n",
       "        vertical-align: top;\n",
       "    }\n",
       "\n",
       "    .dataframe thead th {\n",
       "        text-align: right;\n",
       "    }\n",
       "</style>\n",
       "<table border=\"1\" class=\"dataframe\">\n",
       "  <thead>\n",
       "    <tr style=\"text-align: right;\">\n",
       "      <th></th>\n",
       "      <th>percent</th>\n",
       "      <th>count</th>\n",
       "    </tr>\n",
       "  </thead>\n",
       "  <tbody>\n",
       "    <tr>\n",
       "      <td>0</td>\n",
       "      <td>0.1</td>\n",
       "      <td>10527</td>\n",
       "    </tr>\n",
       "    <tr>\n",
       "      <td>1</td>\n",
       "      <td>0.2</td>\n",
       "      <td>76079</td>\n",
       "    </tr>\n",
       "    <tr>\n",
       "      <td>2</td>\n",
       "      <td>0.3</td>\n",
       "      <td>320768</td>\n",
       "    </tr>\n",
       "    <tr>\n",
       "      <td>3</td>\n",
       "      <td>0.4</td>\n",
       "      <td>1078025</td>\n",
       "    </tr>\n",
       "    <tr>\n",
       "      <td>4</td>\n",
       "      <td>0.5</td>\n",
       "      <td>3129820</td>\n",
       "    </tr>\n",
       "    <tr>\n",
       "      <td>5</td>\n",
       "      <td>0.6</td>\n",
       "      <td>7322287</td>\n",
       "    </tr>\n",
       "    <tr>\n",
       "      <td>6</td>\n",
       "      <td>0.7</td>\n",
       "      <td>16190733</td>\n",
       "    </tr>\n",
       "    <tr>\n",
       "      <td>7</td>\n",
       "      <td>0.8</td>\n",
       "      <td>25326948</td>\n",
       "    </tr>\n",
       "    <tr>\n",
       "      <td>8</td>\n",
       "      <td>0.9</td>\n",
       "      <td>34463163</td>\n",
       "    </tr>\n",
       "    <tr>\n",
       "      <td>9</td>\n",
       "      <td>1.0</td>\n",
       "      <td>43599377</td>\n",
       "    </tr>\n",
       "  </tbody>\n",
       "</table>\n",
       "</div>"
      ],
      "text/plain": [
       "   percent     count\n",
       "0      0.1     10527\n",
       "1      0.2     76079\n",
       "2      0.3    320768\n",
       "3      0.4   1078025\n",
       "4      0.5   3129820\n",
       "5      0.6   7322287\n",
       "6      0.7  16190733\n",
       "7      0.8  25326948\n",
       "8      0.9  34463163\n",
       "9      1.0  43599377"
      ]
     },
     "execution_count": 28,
     "metadata": {},
     "output_type": "execute_result"
    }
   ],
   "source": [
    "get_cumulated_ngram_count_in_percent(trigram_frequencies_df)"
   ]
  },
  {
   "cell_type": "markdown",
   "metadata": {},
   "source": [
    "### How do you evaluate how many of the words come from foreign languages?\n",
    "- Use a static dictionary\n",
    "- Test if the characters belong the the alphabet"
   ]
  },
  {
   "cell_type": "markdown",
   "metadata": {},
   "source": [
    "## Modeling"
   ]
  },
  {
   "cell_type": "code",
   "execution_count": null,
   "metadata": {},
   "outputs": [],
   "source": []
  }
 ],
 "metadata": {
  "kernelspec": {
   "display_name": "Python 3",
   "language": "python",
   "name": "python3"
  },
  "language_info": {
   "codemirror_mode": {
    "name": "ipython",
    "version": 3
   },
   "file_extension": ".py",
   "mimetype": "text/x-python",
   "name": "python",
   "nbconvert_exporter": "python",
   "pygments_lexer": "ipython3",
   "version": "3.6.9"
  }
 },
 "nbformat": 4,
 "nbformat_minor": 4
}
