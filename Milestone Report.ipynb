{
 "cells": [
  {
   "cell_type": "markdown",
   "metadata": {},
   "source": [
    "# Milestone Report\n",
    "\n",
    "Has the data scientist done basic summaries of the three files? \n",
    "\n",
    "Word counts, line counts and basic data tables?\n",
    "\n",
    "Has the data scientist made basic plots, such as histograms to illustrate features of the data?\n",
    "\n",
    "Was the report written in a brief, concise style, in a way that a non-data scientist manager could appreciate?"
   ]
  },
  {
   "cell_type": "code",
   "execution_count": null,
   "metadata": {},
   "outputs": [],
   "source": []
  }
 ],
 "metadata": {
  "kernelspec": {
   "display_name": "Python 3",
   "language": "python",
   "name": "python3"
  },
  "language_info": {
   "codemirror_mode": {
    "name": "ipython",
    "version": 3
   },
   "file_extension": ".py",
   "mimetype": "text/x-python",
   "name": "python",
   "nbconvert_exporter": "python",
   "pygments_lexer": "ipython3",
   "version": "3.6.4"
  }
 },
 "nbformat": 4,
 "nbformat_minor": 4
}
